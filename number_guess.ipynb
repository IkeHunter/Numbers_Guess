{
 "cells": [
  {
   "cell_type": "code",
   "execution_count": 1,
   "metadata": {},
   "outputs": [],
   "source": [
    "# TODO: imports\n",
    "import tensorflow as tf\n",
    "from tensorflow.keras.datasets import mnist\n",
    "import numpy as np\n",
    "import matplotlib.pyplot as plt\n",
    "import os"
   ]
  },
  {
   "cell_type": "code",
   "execution_count": 2,
   "metadata": {},
   "outputs": [],
   "source": [
    "tf.reset_default_graph()"
   ]
  },
  {
   "cell_type": "code",
   "execution_count": 3,
   "metadata": {},
   "outputs": [],
   "source": [
    "(x_train, y_train), (x_test, y_test)= mnist.load_data()\n",
    "# print(\"Train pics: {}, Train labels: {}, Test pics: {}, Test labels: {}\".format(x_train.shape, y_train.shape, x_test.shape, y_test.shape))\n",
    "\n",
    "x_train_list = []\n",
    "y_train_list = []\n",
    "\n",
    "for i in range(0, 20):\n",
    "    x_train_list.append(x_train[i])\n",
    "    y_train_list.append(y_train[i])\n",
    "\n",
    "x_train_list = np.asarray(x_train_list)\n",
    "y_train_list = np.asarray(y_train_list)"
   ]
  },
  {
   "cell_type": "code",
   "execution_count": 4,
   "metadata": {},
   "outputs": [],
   "source": [
    "def round_percent(num):\n",
    "    num *= 100\n",
    "    num = round(num, 1)\n",
    "    return num"
   ]
  },
  {
   "cell_type": "code",
   "execution_count": 5,
   "metadata": {},
   "outputs": [],
   "source": [
    "# TODO: Model class\n",
    "class CNN:\n",
    "    def __init__(self, image_height, image_width, channels, num_classes):\n",
    "        self.input_layer = tf.placeholder(dtype=tf.float32, shape=[None, image_height, image_width, channels])\n",
    "        \n",
    "        conv_layer_1 = tf.layers.conv2d(self.input_layer, filters=32, kernel_size=[2, 2], padding=\"same\", activation=tf.nn.relu)\n",
    "        pooling_layer_1 = tf.layers.max_pooling2d(conv_layer_1, pool_size=[2, 2], strides=2)\n",
    "        \n",
    "        conv_layer_2 = tf.layers.conv2d(pooling_layer_1, filters=32, kernel_size=[2, 2], padding=\"same\", activation=tf.nn.relu)\n",
    "        pooling_layer_2 = tf.layers.max_pooling2d(conv_layer_2, pool_size=[2, 2], strides=2)\n",
    "        \n",
    "        conv_layer_3 = tf.layers.conv2d(pooling_layer_2, filters=32, kernel_size=[2, 2], padding=\"same\", activation=tf.nn.relu)\n",
    "        pooling_layer_3 = tf.layers.max_pooling2d(conv_layer_3, pool_size=[2, 2], strides=2)\n",
    "        \n",
    "        flattened_pooling = tf.layers.flatten(pooling_layer_3)\n",
    "        dense_layer = tf.layers.dense(flattened_pooling, 1024, activation=tf.nn.relu)\n",
    "        \n",
    "        dropout = tf.layers.dropout(dense_layer, rate=0.4, training=True)\n",
    "        outputs = tf.layers.dense(dropout, num_classes) \n",
    "        \n",
    "        self.choice = tf.argmax(outputs, axis=1)\n",
    "        \n",
    "        self.probability = tf.nn.softmax(outputs)\n",
    "        self.labels = tf.placeholder(dtype=tf.float32, name=\"labels\")\n",
    "        self.accuracy, self.accuracy_op = tf.metrics.accuracy(self.labels, self.choice)\n",
    "        one_hot_labels = tf.one_hot(indices=tf.cast(self.labels, dtype=tf.int32), depth=num_classes)\n",
    "        self.loss = tf.losses.softmax_cross_entropy(onehot_labels=one_hot_labels, logits=outputs)\n",
    "        optimizer = tf.train.GradientDescentOptimizer(learning_rate=1e-3)\n",
    "        self.train_operation = optimizer.minimize(loss=self.loss, global_step=tf.train.get_global_step())\n",
    "        \n",
    "        \n",
    "        \n"
   ]
  },
  {
   "cell_type": "code",
   "execution_count": 6,
   "metadata": {},
   "outputs": [],
   "source": [
    "# TODO: initialize variables\n",
    "steps = 5000\n",
    "batch_size = 32  # 32\n",
    "image_height = 28\n",
    "image_width = 28\n",
    "color_channels = 1\n",
    "num_classes = 10\n",
    "test_pics = []\n",
    "test_labels = []\n",
    "\n",
    "model_name = \"model\"\n",
    "\n",
    "path = \"./checkpoints/\"\n",
    "\n",
    "if os.path.exists(path):\n",
    "    load_checkpoint = True\n",
    "else:\n",
    "    load_checkpoint = False\n",
    "\n",
    "pre_performance_graph = np.array([])\n",
    "performance_graph = np.array([])\n",
    "\n",
    "for i in range(0, 10):\n",
    "    test_pics.append(x_test[i])\n",
    "    test_labels.append(y_test[i])"
   ]
  },
  {
   "cell_type": "code",
   "execution_count": 7,
   "metadata": {},
   "outputs": [
    {
     "name": "stderr",
     "output_type": "stream",
     "text": [
      "WARNING: Logging before flag parsing goes to stderr.\n",
      "W0707 23:16:33.167087 4617127360 deprecation.py:323] From <ipython-input-7-cbe8e088ef67>:7: DatasetV1.make_initializable_iterator (from tensorflow.python.data.ops.dataset_ops) is deprecated and will be removed in a future version.\n",
      "Instructions for updating:\n",
      "Use `for ... in dataset:` to iterate over a dataset. If using `tf.estimator`, return the `Dataset` object directly from your input function. As a last resort, you can use `tf.compat.v1.data.make_initializable_iterator(dataset)`.\n",
      "W0707 23:16:33.175440 4617127360 deprecation.py:323] From <ipython-input-5-c803421d8694>:6: conv2d (from tensorflow.python.layers.convolutional) is deprecated and will be removed in a future version.\n",
      "Instructions for updating:\n",
      "Use `tf.keras.layers.Conv2D` instead.\n",
      "W0707 23:16:33.178283 4617127360 deprecation.py:506] From /Library/Frameworks/Python.framework/Versions/3.7/lib/python3.7/site-packages/tensorflow/python/ops/init_ops.py:1251: calling VarianceScaling.__init__ (from tensorflow.python.ops.init_ops) with dtype is deprecated and will be removed in a future version.\n",
      "Instructions for updating:\n",
      "Call initializer instance with the dtype argument instead of passing it to the constructor\n",
      "W0707 23:16:33.382364 4617127360 deprecation.py:323] From <ipython-input-5-c803421d8694>:7: max_pooling2d (from tensorflow.python.layers.pooling) is deprecated and will be removed in a future version.\n",
      "Instructions for updating:\n",
      "Use keras.layers.MaxPooling2D instead.\n",
      "W0707 23:16:33.517146 4617127360 deprecation.py:323] From <ipython-input-5-c803421d8694>:15: flatten (from tensorflow.python.layers.core) is deprecated and will be removed in a future version.\n",
      "Instructions for updating:\n",
      "Use keras.layers.flatten instead.\n",
      "W0707 23:16:33.697729 4617127360 deprecation.py:323] From <ipython-input-5-c803421d8694>:16: dense (from tensorflow.python.layers.core) is deprecated and will be removed in a future version.\n",
      "Instructions for updating:\n",
      "Use keras.layers.dense instead.\n",
      "W0707 23:16:33.931404 4617127360 deprecation.py:323] From <ipython-input-5-c803421d8694>:18: dropout (from tensorflow.python.layers.core) is deprecated and will be removed in a future version.\n",
      "Instructions for updating:\n",
      "Use keras.layers.dropout instead.\n",
      "W0707 23:16:34.062818 4617127360 deprecation.py:323] From /Library/Frameworks/Python.framework/Versions/3.7/lib/python3.7/site-packages/tensorflow/python/ops/losses/losses_impl.py:121: add_dispatch_support.<locals>.wrapper (from tensorflow.python.ops.array_ops) is deprecated and will be removed in a future version.\n",
      "Instructions for updating:\n",
      "Use tf.where in 2.0, which has the same broadcast rule as np.where\n"
     ]
    },
    {
     "name": "stdout",
     "output_type": "stream",
     "text": [
      "[PRE] Current accuracy at step 0 is 15.0%\n",
      "[PRE] Current accuracy at step 100 is 83.1%\n",
      "[PRE] Current accuracy at step 200 is 91.0%\n",
      "[PRE] Current accuracy at step 300 is 93.9%\n",
      "[PRE] Current accuracy at step 400 is 95.3%\n",
      "[PRE] Current accuracy at step 500 is 96.2%\n",
      "[PRE] Current accuracy at step 600 is 96.8%\n",
      "[PRE] Current accuracy at step 700 is 97.3%\n",
      "[PRE] Current accuracy at step 800 is 97.6%\n",
      "[PRE] Current accuracy at step 900 is 97.9%\n",
      "Current accuracy at step 1000 is 98.1%\n",
      "Saving Checkpoint...\n",
      "Current accuracy at step 2000 is 99.0%\n",
      "Saving Checkpoint...\n"
     ]
    },
    {
     "name": "stderr",
     "output_type": "stream",
     "text": [
      "W0707 23:16:56.263899 4617127360 deprecation.py:323] From /Library/Frameworks/Python.framework/Versions/3.7/lib/python3.7/site-packages/tensorflow/python/training/saver.py:960: remove_checkpoint (from tensorflow.python.training.checkpoint_management) is deprecated and will be removed in a future version.\n",
      "Instructions for updating:\n",
      "Use standard file APIs to delete files with this prefix.\n"
     ]
    },
    {
     "name": "stdout",
     "output_type": "stream",
     "text": [
      "Current accuracy at step 3000 is 99.3%\n",
      "Saving Checkpoint...\n",
      "Current accuracy at step 4000 is 99.5%\n",
      "Saving Checkpoint...\n",
      "Saving final checkpoint for session...\n"
     ]
    }
   ],
   "source": [
    "# TODO: run model\n",
    "dataset = tf.data.Dataset.from_tensor_slices((x_train_list, y_train_list))    \n",
    "dataset = dataset.shuffle(buffer_size=y_train.shape[0])\n",
    "dataset = dataset.batch(batch_size)\n",
    "dataset = dataset.repeat()\n",
    "\n",
    "dataset_iterator = dataset.make_initializable_iterator()\n",
    "next_element = dataset_iterator.get_next()\n",
    "\n",
    "cnn = CNN(image_height, image_width, color_channels, num_classes)\n",
    "\n",
    "saver = tf.train.Saver(max_to_keep=2)\n",
    "\n",
    "if not os.path.exists(path):\n",
    "    os.makedirs(path)\n",
    "\n",
    "with tf.Session() as sess:\n",
    "    if load_checkpoint:\n",
    "        checkpoint = tf.train.get_checkpoint_state(path)\n",
    "        saver.restore(sess, checkpoint.model_checkpoint_path)\n",
    "    else:\n",
    "        sess.run(tf.global_variables_initializer())\n",
    "    \n",
    "    sess.run(tf.local_variables_initializer())\n",
    "    sess.run(dataset_iterator.initializer)\n",
    "    \n",
    "    for step in range(steps):\n",
    "        current_batch = sess.run(next_element)\n",
    "        \n",
    "        batch_inputs = current_batch[0]\n",
    "        batch_labels = current_batch[1]\n",
    "        \n",
    "        batch_inputs = batch_inputs.reshape(-1, image_height, image_width, color_channels)\n",
    "        \n",
    "        sess.run((cnn.train_operation, cnn.accuracy_op), \n",
    "                 feed_dict={cnn.input_layer:batch_inputs, cnn.labels:batch_labels})\n",
    "        if step < 1000 and step % 100 == 0:\n",
    "            pre_performance_graph = np.append(pre_performance_graph, sess.run(cnn.accuracy))\n",
    "            \n",
    "            current_accuracy = sess.run(cnn.accuracy)\n",
    "            current_accuracy = round_percent(current_accuracy)\n",
    "            print(\"[PRE] Current accuracy at step {} is {}%\".format(str(step), str(current_accuracy)))\n",
    "            \n",
    "        if step % 1000 == 0 and step > 0:\n",
    "            performance_graph = np.append(performance_graph, sess.run(cnn.accuracy))\n",
    "            \n",
    "            current_accuracy = sess.run(cnn.accuracy)\n",
    "            current_accuracy = round_percent(current_accuracy)\n",
    "            print(\"Current accuracy at step {} is {}%\".format(str(step), str(current_accuracy)))\n",
    "            print(\"Saving Checkpoint...\")\n",
    "            saver.save(sess, path + model_name, step)\n",
    "        \n",
    "    print(\"Saving final checkpoint for session...\")\n",
    "    saver.save(sess, path + model_name, step)\n",
    "        \n",
    "    sess.close()\n",
    "            "
   ]
  },
  {
   "cell_type": "code",
   "execution_count": 8,
   "metadata": {},
   "outputs": [
    {
     "data": {
      "text/plain": [
       "[<matplotlib.lines.Line2D at 0x129b348d0>]"
      ]
     },
     "execution_count": 8,
     "metadata": {},
     "output_type": "execute_result"
    },
    {
     "data": {
      "image/png": "[encoded data removed]",
      "text/plain": [
       "<Figure size 432x288 with 1 Axes>"
      ]
     },
     "metadata": {},
     "output_type": "display_data"
    }
   ],
   "source": [
    "# TODO: graph running accuracy\n",
    "plt.figure().set_facecolor('white')\n",
    "plt.xlabel(\"Steps\")\n",
    "plt.ylabel(\"Accuracy\")\n",
    "plt.plot(performance_graph, 'b-')\n",
    "plt.plot(pre_performance_graph, 'r-')"
   ]
  },
  {
   "cell_type": "code",
   "execution_count": 9,
   "metadata": {},
   "outputs": [
    {
     "name": "stderr",
     "output_type": "stream",
     "text": [
      "W0707 23:17:12.651451 4617127360 deprecation.py:323] From /Library/Frameworks/Python.framework/Versions/3.7/lib/python3.7/site-packages/tensorflow/python/training/saver.py:1276: checkpoint_exists (from tensorflow.python.training.checkpoint_management) is deprecated and will be removed in a future version.\n",
      "Instructions for updating:\n",
      "Use standard file APIs to check for files with this prefix.\n"
     ]
    },
    {
     "name": "stdout",
     "output_type": "stream",
     "text": [
      "Final Accuracy: 40.0%\n"
     ]
    }
   ],
   "source": [
    "# TODO: check final accuracy\n",
    "with tf.Session() as sess:\n",
    "    for i in range(0, len(test_pics)):\n",
    "        test_pics[i] = test_pics[i].reshape(image_height, image_width, color_channels)\n",
    "    \n",
    "    checkpoint = tf.train.get_checkpoint_state(path)\n",
    "    saver.restore(sess, checkpoint.model_checkpoint_path)\n",
    "    \n",
    "    sess.run(tf.local_variables_initializer())\n",
    "    \n",
    "    for image, label in zip(test_pics, test_labels):\n",
    "        sess.run(cnn.accuracy_op, feed_dict={cnn.input_layer:[image], cnn.labels:label})\n",
    "    \n",
    "    total_accuracy = sess.run(cnn.accuracy)\n",
    "    total_accuracy = round_percent(total_accuracy)\n",
    "    print(\"Final Accuracy: {}%\".format(total_accuracy))"
   ]
  },
  {
   "cell_type": "code",
   "execution_count": 10,
   "metadata": {},
   "outputs": [
    {
     "data": {
      "image/png": "[encoded data removed]",
      "text/plain": [
       "<Figure size 360x360 with 10 Axes>"
      ]
     },
     "metadata": {},
     "output_type": "display_data"
    }
   ],
   "source": [
    "# TODO: test model\n",
    "with tf.Session() as sess:\n",
    "    for i in range(0, len(test_pics)):\n",
    "        test_pics[i] = test_pics[i].reshape(-1, image_height, image_width, color_channels)\n",
    "    \n",
    "    checkpoint = tf.train.get_checkpoint_state(path)\n",
    "    saver.restore(sess, checkpoint.model_checkpoint_path)\n",
    "    \n",
    "    indexes = np.random.choice(len(test_pics), 10, replace=False)\n",
    "    \n",
    "    rows = 5\n",
    "    cols = 2\n",
    "    \n",
    "    fig, axes = plt.subplots(rows, cols, figsize=(5, 5))\n",
    "    fig.patch.set_facecolor('white')\n",
    "    image_count = 0\n",
    "    \n",
    "    for i in indexes:\n",
    "        image_count += 1\n",
    "        sub = plt.subplot(rows, cols, image_count)\n",
    "        img = test_pics[i]\n",
    "        \n",
    "        img = img.reshape(28, 28)\n",
    "        plt.imshow(img)\n",
    "        \n",
    "        guess = sess.run(cnn.choice, feed_dict={cnn.input_layer:test_pics[i]})\n",
    "        \n",
    "        guess_name = str(guess[0])\n",
    "        actual_name = str(test_labels[i])\n",
    "        \n",
    "        sub.set_title(\"Guess: {}, Answer: {}\".format(guess_name, actual_name))\n",
    "    \n",
    "    plt.tight_layout()\n"
   ]
  },
  {
   "cell_type": "code",
   "execution_count": 11,
   "metadata": {},
   "outputs": [],
   "source": [
    "tf.Session().close()"
   ]
  },
  {
   "cell_type": "code",
   "execution_count": null,
   "metadata": {},
   "outputs": [],
   "source": []
  }
 ],
 "metadata": {
  "kernelspec": {
   "display_name": "Python 3",
   "language": "python",
   "name": "python3"
  },
  "language_info": {
   "codemirror_mode": {
    "name": "ipython",
    "version": 3
   },
   "file_extension": ".py",
   "mimetype": "text/x-python",
   "name": "python",
   "nbconvert_exporter": "python",
   "pygments_lexer": "ipython3",
   "version": "3.7.3"
  }
 },
 "nbformat": 4,
 "nbformat_minor": 2
}
